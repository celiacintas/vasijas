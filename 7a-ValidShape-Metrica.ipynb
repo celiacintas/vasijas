{
 "cells": [
  {
   "cell_type": "code",
   "execution_count": 1,
   "metadata": {},
   "outputs": [],
   "source": [
    "from scipy.stats import zscore\n",
    "import numpy as np\n",
    "\n",
    "def removeOutliers(tope):\n",
    "    z_scores = zscore(tope)\n",
    "    abs_z_scores = np.abs(z_scores)\n",
    "    filtered_entries = (abs_z_scores < 1)\n",
    "    return filtered_entries"
   ]
  },
  {
   "cell_type": "code",
   "execution_count": 7,
   "metadata": {},
   "outputs": [],
   "source": [
    "def calcMetric(val):\n",
    "    tope_v1 = np.load('{}_v1.npy'.format(val))\n",
    "    tope_v6c = np.load('{}_v6c.npy'.format(val))\n",
    "    tope_v6 = np.load('{}_v6.npy'.format(val))\n",
    "    tope_v8 = np.load('{}_v8.npy'.format(val))\n",
    "    tope_v9 = np.load('{}_v9.npy'.format(val))\n",
    "\n",
    "    filtered_entries_v1 = removeOutliers(tope_v1)\n",
    "    filtered_entries_v6c = removeOutliers(tope_v6c)\n",
    "    filtered_entries_v6 = removeOutliers(tope_v6)\n",
    "    filtered_entries_v8 = removeOutliers(tope_v8)\n",
    "    filtered_entries_v9 = removeOutliers(tope_v9)\n",
    "\n",
    "    filtered_entries_v1_v6c = np.logical_and(filtered_entries_v1, filtered_entries_v6c)\n",
    "    filtered_entries_v6_v8 = np.logical_and(filtered_entries_v6, filtered_entries_v8)\n",
    "    filtered_entries_v1_v6c_v9 = np.logical_and(filtered_entries_v1_v6c, filtered_entries_v9)\n",
    "    filtered_entries_v1_v6c_v6_v8_v9 = np.logical_and(filtered_entries_v1_v6c_v9, filtered_entries_v6_v8)\n",
    "\n",
    "    print(val, 'v1', np.mean(tope_v1[filtered_entries_v1_v6c_v6_v8_v9]), '+/-' ,np.std(tope_v1[filtered_entries_v1_v6c_v6_v8_v9]))\n",
    "    print(val, 'v2', np.mean(tope_v6c[filtered_entries_v1_v6c_v6_v8_v9]), '+/-' , np.std(tope_v6c[filtered_entries_v1_v6c_v6_v8_v9]))\n",
    "    print(val, 'v2b', np.mean(tope_v6[filtered_entries_v1_v6c_v6_v8_v9]), '+/-' , np.std(tope_v6[filtered_entries_v1_v6c_v6_v8_v9]))\n",
    "    print(val, 'v3', np.mean(tope_v8[filtered_entries_v1_v6c_v6_v8_v9]), '+/-' , np.std(tope_v8[filtered_entries_v1_v6c_v6_v8_v9]))\n",
    "    print(val, 'v4', np.mean(tope_v9[filtered_entries_v1_v6c_v6_v8_v9]), '+/-' , np.std(tope_v9[filtered_entries_v1_v6c_v6_v8_v9]))\n",
    "    #return tope_v9[filtered_entries_v1_v6c_v6_v8_v9], "
   ]
  },
  {
   "cell_type": "code",
   "execution_count": 8,
   "metadata": {},
   "outputs": [
    {
     "name": "stdout",
     "output_type": "stream",
     "text": [
      "tope v1 0.062079585857682106 +/- 0.028808318075490967\n",
      "tope v2 0.09001324730353599 +/- 0.039815219417638346\n",
      "tope v2b 0.07565746151796482 +/- 0.02636769967139111\n",
      "tope v3 0.08138687250466438 +/- 0.028444459253172585\n",
      "tope v4 0.0006538924062117398 +/- 0.002303824769117726\n"
     ]
    }
   ],
   "source": [
    "calcMetric('tope')"
   ]
  },
  {
   "cell_type": "code",
   "execution_count": 9,
   "metadata": {},
   "outputs": [
    {
     "name": "stdout",
     "output_type": "stream",
     "text": [
      "base v1 0.14073363828884572 +/- 0.08590818044754615\n",
      "base v2 0.11975906569133235 +/- 0.0771021602461439\n",
      "base v2b 0.17010193038220683 +/- 0.11831722017524184\n",
      "base v3 0.15076211456626515 +/- 0.10245370803918284\n",
      "base v4 0.00016190912952570064 +/- 0.0009578673278843345\n"
     ]
    }
   ],
   "source": [
    "calcMetric('base')"
   ]
  },
  {
   "cell_type": "code",
   "execution_count": 10,
   "metadata": {},
   "outputs": [
    {
     "name": "stdout",
     "output_type": "stream",
     "text": [
      "falta_base v1 0.019157739889143995 +/- 0.008438460562990711\n",
      "falta_base v2 0.025023281601501145 +/- 0.014126087654360322\n",
      "falta_base v2b 0.021831194777659445 +/- 0.01388893707877706\n",
      "falta_base v3 0.01811697077903791 +/- 0.009469931076343521\n",
      "falta_base v4 0.020672816759319486 +/- 0.011083648960112635\n"
     ]
    }
   ],
   "source": [
    "calcMetric('falta_base')"
   ]
  },
  {
   "cell_type": "code",
   "execution_count": 11,
   "metadata": {},
   "outputs": [
    {
     "name": "stdout",
     "output_type": "stream",
     "text": [
      "falta_tope v1 0.021919896752463437 +/- 0.009028214798040944\n",
      "falta_tope v2 0.02893405552561685 +/- 0.01017282771332034\n",
      "falta_tope v2b 0.021366299440140034 +/- 0.012326868610574138\n",
      "falta_tope v3 0.023540910375298863 +/- 0.012698518054594097\n",
      "falta_tope v4 0.02651861164046566 +/- 0.008883748100448821\n"
     ]
    }
   ],
   "source": [
    "calcMetric('falta_tope')"
   ]
  },
  {
   "cell_type": "code",
   "execution_count": null,
   "metadata": {},
   "outputs": [],
   "source": []
  },
  {
   "cell_type": "code",
   "execution_count": null,
   "metadata": {},
   "outputs": [],
   "source": []
  },
  {
   "cell_type": "code",
   "execution_count": 12,
   "metadata": {},
   "outputs": [
    {
     "name": "stdout",
     "output_type": "stream",
     "text": [
      "tope_plato v1 0.03566950072377332 +/- 0.026164763749404654\n",
      "tope_plato v2 0.033780493005461924 +/- 0.02750866937888184\n",
      "tope_plato v2b 0.02223374040328804 +/- 0.01861744100356872\n",
      "tope_plato v3 0.047294459016537185 +/- 0.03469362280656572\n",
      "tope_plato v4 0.0005194871097206802 +/- 0.0010366147776772023\n"
     ]
    }
   ],
   "source": [
    "calcMetric('tope_plato')"
   ]
  },
  {
   "cell_type": "code",
   "execution_count": 14,
   "metadata": {},
   "outputs": [
    {
     "name": "stdout",
     "output_type": "stream",
     "text": [
      "falta_plato_base v1 0.03609209462141587 +/- 0.018418581447266564\n",
      "falta_plato_base v2 0.03643119326396747 +/- 0.020453059813453245\n",
      "falta_plato_base v2b 0.03636436806634406 +/- 0.02000176426670612\n",
      "falta_plato_base v3 0.04745223706536035 +/- 0.02854325997770446\n",
      "falta_plato_base v4 0.04181390955884831 +/- 0.028660438479096318\n"
     ]
    }
   ],
   "source": [
    "calcMetric('falta_plato_base')"
   ]
  },
  {
   "cell_type": "code",
   "execution_count": null,
   "metadata": {},
   "outputs": [],
   "source": []
  },
  {
   "cell_type": "code",
   "execution_count": null,
   "metadata": {},
   "outputs": [],
   "source": []
  },
  {
   "cell_type": "code",
   "execution_count": 15,
   "metadata": {},
   "outputs": [
    {
     "name": "stdout",
     "output_type": "stream",
     "text": [
      "base_plato v1 0.1728124522794709 +/- 0.09077224094905623\n",
      "base_plato v2 0.16709535136277556 +/- 0.11760081453069408\n",
      "base_plato v2b 0.20808931863239633 +/- 0.13179087385117425\n",
      "base_plato v3 0.15365519041393644 +/- 0.11113214198985519\n",
      "base_plato v4 0.00024097264883897658 +/- 0.0008147476579482241\n"
     ]
    }
   ],
   "source": [
    "calcMetric('base_plato')"
   ]
  },
  {
   "cell_type": "code",
   "execution_count": 16,
   "metadata": {},
   "outputs": [
    {
     "name": "stdout",
     "output_type": "stream",
     "text": [
      "falta_plato_tope v1 0.012716433596733839 +/- 0.006930278873950723\n",
      "falta_plato_tope v2 0.014755971765166933 +/- 0.009631756227030816\n",
      "falta_plato_tope v2b 0.012667659530640162 +/- 0.007281601937522832\n",
      "falta_plato_tope v3 0.014026596014869682 +/- 0.007904381729942435\n",
      "falta_plato_tope v4 0.020444145944950896 +/- 0.021598777881135636\n"
     ]
    }
   ],
   "source": [
    "calcMetric('falta_plato_tope')"
   ]
  },
  {
   "cell_type": "code",
   "execution_count": null,
   "metadata": {},
   "outputs": [],
   "source": []
  }
 ],
 "metadata": {
  "kernelspec": {
   "display_name": "Python 3",
   "language": "python",
   "name": "python3"
  },
  "language_info": {
   "codemirror_mode": {
    "name": "ipython",
    "version": 3
   },
   "file_extension": ".py",
   "mimetype": "text/x-python",
   "name": "python",
   "nbconvert_exporter": "python",
   "pygments_lexer": "ipython3",
   "version": "3.6.10"
  }
 },
 "nbformat": 4,
 "nbformat_minor": 4
}
