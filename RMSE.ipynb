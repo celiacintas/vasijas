{
 "cells": [
  {
   "cell_type": "code",
   "execution_count": 1,
   "metadata": {},
   "outputs": [],
   "source": [
    "import cv2"
   ]
  },
  {
   "cell_type": "code",
   "execution_count": 2,
   "metadata": {},
   "outputs": [],
   "source": [
    "import glob\n",
    "import torch"
   ]
  },
  {
   "cell_type": "code",
   "execution_count": 3,
   "metadata": {},
   "outputs": [],
   "source": [
    "import matplotlib.pyplot as plt\n",
    "import torch.nn as nn"
   ]
  },
  {
   "cell_type": "code",
   "execution_count": 4,
   "metadata": {},
   "outputs": [],
   "source": [
    "def RMSE(seg, gt):\n",
    "    criterion = nn.MSELoss()\n",
    "    #seg = seg.reshape(128, 128, -1)\n",
    "    #gt  = gt.reshape(128, 128, -1)\n",
    "    #gt = gt[:,:, 0]\n",
    "    #seg = seg[:,:, 0]\n",
    "    \n",
    "    #thresh = 128\n",
    "    #seg = np.abs(cv2.threshold(seg, thresh, 1, cv2.THRESH_BINARY)[1] -1 )\n",
    "    #gt = np.abs(cv2.threshold(gt, thresh, 1, cv2.THRESH_BINARY)[1] -1)\n",
    "    #gt[gt == 255] = 1\n",
    "    #seg[seg == 255] = 1\n",
    "    rmse = torch.sqrt(criterion(torch.Tensor(seg.reshape(1, 1, -1)), torch.Tensor(gt.reshape(1, 1, -1)))).tolist()\n",
    "    return rmse"
   ]
  },
  {
   "cell_type": "code",
   "execution_count": 6,
   "metadata": {},
   "outputs": [
    {
     "data": {
      "text/plain": [
       "<matplotlib.image.AxesImage at 0x7fa12d884668>"
      ]
     },
     "execution_count": 6,
     "metadata": {},
     "output_type": "execute_result"
    },
    {
     "data": {
      "image/png": "[encoded data removed]",
      "text/plain": [
       "<Figure size 432x288 with 1 Axes>"
      ]
     },
     "metadata": {
      "needs_background": "light"
     },
     "output_type": "display_data"
    }
   ],
   "source": [
    "img_fake = cv2.imread('imageFakeTest_v9/image_12.png', 0)\n",
    "img_fake[img_fake <= 128] = 0\n",
    "img_fake[img_fake > 128] = 1\n",
    "plt.imshow(img_fake*255)"
   ]
  },
  {
   "cell_type": "code",
   "execution_count": 7,
   "metadata": {},
   "outputs": [
    {
     "data": {
      "text/plain": [
       "<matplotlib.image.AxesImage at 0x7fa12d79b438>"
      ]
     },
     "execution_count": 7,
     "metadata": {},
     "output_type": "execute_result"
    },
    {
     "data": {
      "image/png": "[encoded data removed]",
      "text/plain": [
       "<Figure size 432x288 with 1 Axes>"
      ]
     },
     "metadata": {
      "needs_background": "light"
     },
     "output_type": "display_data"
    }
   ],
   "source": [
    "img_real = cv2.imread('imageRealsTest_v9/image_12.png', 0)\n",
    "img_real[img_real <= 128] = 0\n",
    "img_real[img_real > 128] = 1\n",
    "plt.imshow(img_real*255)"
   ]
  },
  {
   "cell_type": "code",
   "execution_count": 8,
   "metadata": {},
   "outputs": [
    {
     "data": {
      "text/plain": [
       "0.16937096416950226"
      ]
     },
     "execution_count": 8,
     "metadata": {},
     "output_type": "execute_result"
    }
   ],
   "source": [
    "RMSE(img_fake, img_real)"
   ]
  },
  {
   "cell_type": "code",
   "execution_count": 9,
   "metadata": {},
   "outputs": [
    {
     "data": {
      "text/plain": [
       "0.0"
      ]
     },
     "execution_count": 9,
     "metadata": {},
     "output_type": "execute_result"
    }
   ],
   "source": [
    "RMSE(img_fake, img_fake)"
   ]
  },
  {
   "cell_type": "code",
   "execution_count": null,
   "metadata": {},
   "outputs": [],
   "source": []
  }
 ],
 "metadata": {
  "kernelspec": {
   "display_name": "Python 3",
   "language": "python",
   "name": "python3"
  },
  "language_info": {
   "codemirror_mode": {
    "name": "ipython",
    "version": 3
   },
   "file_extension": ".py",
   "mimetype": "text/x-python",
   "name": "python",
   "nbconvert_exporter": "python",
   "pygments_lexer": "ipython3",
   "version": "3.6.10"
  }
 },
 "nbformat": 4,
 "nbformat_minor": 4
}
