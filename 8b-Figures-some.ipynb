{
 "cells": [
  {
   "cell_type": "code",
   "execution_count": 4,
   "metadata": {},
   "outputs": [],
   "source": [
    "import numpy as np\n",
    "import cv2\n",
    "import glob\n",
    "import matplotlib.pyplot as plt\n",
    "from PIL import Image\n",
    "\n"
   ]
  },
  {
   "cell_type": "code",
   "execution_count": 5,
   "metadata": {},
   "outputs": [],
   "source": [
    "redes = ['v1', 'v6c', 'v6', 'v8', 'v9']\n",
    "title = ['Entrada', 'Red V1', 'Red V2', 'Red V2b', 'Red V3', 'Red V4', 'Real']\n",
    "indx = 0"
   ]
  },
  {
   "cell_type": "code",
   "execution_count": 12,
   "metadata": {},
   "outputs": [],
   "source": [
    "for indx in [105]:\n",
    "    images = []\n",
    "    for i, r in enumerate(redes):\n",
    "        file = glob.glob('result_{}/row_{}.png'.format(r, indx))[0]\n",
    "        image1 = Image.open(file)\n",
    "        images.append(image1)\n",
    "    new_image = Image.new('RGB',(image1.size[0], len(images)*image1.size[1]), (250,250,250))\n",
    "    new_image.paste(images[0], (0, 0))\n",
    "    for j in range(1, len(images)):\n",
    "        new_image.paste(images[j], (0, image1.size[1]*j))\n",
    "        \n",
    "    new_image.save(\"row_{}.jpg\".format(indx),\"JPEG\")"
   ]
  },
  {
   "cell_type": "code",
   "execution_count": 7,
   "metadata": {},
   "outputs": [],
   "source": [
    "for i, r in enumerate(redes):\n",
    "    images = []\n",
    "    for indx in np.random.randint(1, 300, size=10):\n",
    "        file = glob.glob('result_{}/row_{}.png'.format(r,indx))[0]\n",
    "        image1 = Image.open(file)\n",
    "        images.append(image1)\n",
    "\n",
    "    new_image = Image.new('RGB',(image1.size[0], len(images)*image1.size[1]), (250,250,250))\n",
    "    new_image.paste(images[0], (0, 0))\n",
    "    for j in range(1, len(images)):\n",
    "        new_image.paste(images[j], (0, image1.size[1]*j))\n",
    "        \n",
    "    new_image.save(\"merged_image_{}.jpg\".format(r),\"JPEG\")"
   ]
  },
  {
   "cell_type": "code",
   "execution_count": null,
   "metadata": {},
   "outputs": [],
   "source": []
  }
 ],
 "metadata": {
  "kernelspec": {
   "display_name": "Python 3",
   "language": "python",
   "name": "python3"
  },
  "language_info": {
   "codemirror_mode": {
    "name": "ipython",
    "version": 3
   },
   "file_extension": ".py",
   "mimetype": "text/x-python",
   "name": "python",
   "nbconvert_exporter": "python",
   "pygments_lexer": "ipython3",
   "version": "3.6.10"
  }
 },
 "nbformat": 4,
 "nbformat_minor": 4
}
