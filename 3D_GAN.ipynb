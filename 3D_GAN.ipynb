{
 "cells": [
  {
   "cell_type": "markdown",
   "metadata": {},
   "source": [
    "### Build and Train 3DGAN\n"
   ]
  },
  {
   "cell_type": "code",
   "execution_count": null,
   "metadata": {},
   "outputs": [],
   "source": [
    "import os\n",
    "import torch\n",
    "from torch import optim\n",
    "from torch import nn\n",
    "from utils import utils3D\n",
    "from torch.utils import data\n",
    "from torch.autograd import Variable\n",
    "from models.threed.gan import GAN\n",
    "import matplotlib\n",
    "import pickle\n",
    "matplotlib.use('agg')"
   ]
  },
  {
   "cell_type": "markdown",
   "metadata": {},
   "source": [
    "#### Variables to define size of latent feature, learning rates of G and D ... beta parameter for adam and batch size"
   ]
  },
  {
   "cell_type": "code",
   "execution_count": null,
   "metadata": {},
   "outputs": [],
   "source": [
    "Z_LATENT_SPACE = 200\n",
    "G_LR = 0.0025\n",
    "D_LR = 0.001\n",
    "EPOCHS = 1\n",
    "BETA = (0.5, 0.5) \n",
    "BSIZE = 32\n",
    "CUBE_LEN = 64"
   ]
  },
  {
   "cell_type": "markdown",
   "metadata": {},
   "source": [
    "#### Define model"
   ]
  },
  {
   "cell_type": "code",
   "execution_count": null,
   "metadata": {},
   "outputs": [],
   "source": [
    "gan3D = GAN(epochs=EPOCHS, sample=8, \n",
    "            batch=BSIZE, betas=BETA,\n",
    "            g_lr=G_LR, d_lr=D_LR, cube_len=CUBE_LEN, latent_v=Z_LATENT_SPACE)"
   ]
  },
  {
   "cell_type": "code",
   "execution_count": null,
   "metadata": {},
   "outputs": [],
   "source": [
    "gan3D.train()\n",
    "print(\"Training finished!\")"
   ]
  },
  {
   "cell_type": "markdown",
   "metadata": {},
   "source": [
    "### Load and plot trained nets"
   ]
  },
  {
   "cell_type": "code",
   "execution_count": null,
   "metadata": {},
   "outputs": [],
   "source": [
    "import torch\n",
    "from models.threed.generator import _G\n",
    "from models.threed.discriminator import _D\n",
    "from utils import utils3D\n",
    "import skimage.measure as sk\n",
    "import visdom\n",
    "import trimesh\n",
    "import numpy as np"
   ]
  },
  {
   "cell_type": "code",
   "execution_count": null,
   "metadata": {},
   "outputs": [],
   "source": [
    "vis = visdom.Visdom()\n",
    "D = _D().cuda()\n",
    "G = _G(z_latent_space=200).cuda()\n",
    "G.load_state_dict(torch.load('/tmp/faces/GAN3D/GAN3D_G.pkl'))\n",
    "D.load_state_dict(torch.load('/tmp/faces/GAN3D/GAN3D_D.pkl'))"
   ]
  },
  {
   "cell_type": "code",
   "execution_count": null,
   "metadata": {},
   "outputs": [],
   "source": [
    "Z_LATENT_SPACE = 200\n",
    "BATCH_SIZE = 32\n",
    "\n",
    "Z = utils3D.var_or_cuda(torch.randn(BATCH_SIZE, Z_LATENT_SPACE))   \n",
    "fake = G(Z)\n",
    "samples = fake.cpu().data[:4].squeeze().numpy()\n",
    "for s, sample in enumerate(samples):\n",
    "    utils3D.plotVoxelVisdom(str(s), sample, 0.0001, vis, \"3D vessels\")\n"
   ]
  },
  {
   "cell_type": "markdown",
   "metadata": {},
   "source": [
    "#### Save to stl generated vessels"
   ]
  },
  {
   "cell_type": "code",
   "execution_count": null,
   "metadata": {},
   "outputs": [],
   "source": [
    "samples[0].shape, np.max(samples[0]),  np.min(samples[0])"
   ]
  },
  {
   "cell_type": "code",
   "execution_count": null,
   "metadata": {},
   "outputs": [],
   "source": [
    "v, f = sk.marching_cubes_classic(samples[0], level=0.01)\n",
    "sample_mesh = trimesh.Trimesh(v, f)\n",
    "sample_mesh.export('/tmp/test.stl')"
   ]
  },
  {
   "cell_type": "code",
   "execution_count": null,
   "metadata": {},
   "outputs": [],
   "source": [
    "v, f = sk.marching_cubes_classic(samples[0], level=0.5)"
   ]
  }
 ],
 "metadata": {
  "kernelspec": {
   "display_name": "Python 3",
   "language": "python",
   "name": "python3"
  },
  "language_info": {
   "codemirror_mode": {
    "name": "ipython",
    "version": 3
   },
   "file_extension": ".py",
   "mimetype": "text/x-python",
   "name": "python",
   "nbconvert_exporter": "python",
   "pygments_lexer": "ipython3",
   "version": "3.6.0"
  }
 },
 "nbformat": 4,
 "nbformat_minor": 2
}
