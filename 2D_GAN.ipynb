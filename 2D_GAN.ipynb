{
 "cells": [
  {
   "cell_type": "code",
   "execution_count": null,
   "metadata": {},
   "outputs": [],
   "source": [
    "import sys\n",
    "import os\n",
    "import scipy.ndimage as nd\n",
    "import scipy.io as io\n",
    "import numpy as np\n",
    "import matplotlib.pyplot as plt\n",
    "import skimage.measure as sk\n",
    "import utils\n",
    "plt.style.use('ggplot')"
   ]
  },
  {
   "cell_type": "code",
   "execution_count": null,
   "metadata": {},
   "outputs": [],
   "source": [
    "from torch.autograd import Variable\n",
    "from torchvision import datasets\n",
    "from torchvision import transforms as tfs\n",
    "from torch.utils import data\n",
    "\n",
    "import torch"
   ]
  },
  {
   "cell_type": "markdown",
   "metadata": {},
   "source": [
    "#### Load datasets"
   ]
  },
  {
   "cell_type": "code",
   "execution_count": null,
   "metadata": {},
   "outputs": [],
   "source": [
    "imagenet_data = datasets.ImageFolder('data/png/',\n",
    "                                     transform=tfs.Compose([tfs.RandomChoice([tfs.ColorJitter()]),\n",
    "                                                           tfs.Resize((112, 112)),\n",
    "                                                           tfs.Grayscale(1)]))\n",
    "      \n",
    "data_loader = data.DataLoader(imagenet_data, batch_size=4, shuffle=True)"
   ]
  },
  {
   "cell_type": "code",
   "execution_count": null,
   "metadata": {},
   "outputs": [],
   "source": [
    "fig = plt.figure()\n",
    "\n",
    "for i in range(len(imagenet_data)):\n",
    "    sample = imagenet_data[i + 10]\n",
    "    print(sample)\n",
    "    #print(i, sample.shape)\n",
    "    ax = plt.subplot(1, 5, i + 1)\n",
    "    plt.tight_layout()\n",
    "    plt.imshow(np.asarray(sample[0]))\n",
    "    ax.set_title('Sample {}'.format(i))\n",
    "    ax.axis('off')\n",
    "\n",
    "    if i == 4:\n",
    "        plt.show()\n",
    "        break"
   ]
  },
  {
   "cell_type": "markdown",
   "metadata": {},
   "source": [
    "#### Define generator & GAN"
   ]
  },
  {
   "cell_type": "code",
   "execution_count": null,
   "metadata": {},
   "outputs": [],
   "source": [
    "from models.generator import _G\n",
    "from models.discriminator import _D\n",
    "from models.gan import GAN\n",
    "import utils"
   ]
  },
  {
   "cell_type": "code",
   "execution_count": null,
   "metadata": {},
   "outputs": [],
   "source": [
    "import time\n",
    "import pickle\n",
    "\n",
    "transforms = [tfs.RandomAffine(0, scale=(0.3, 1.)),\n",
    "              tfs.Resize((112, 112)),\n",
    "              tfs.Grayscale(1),\n",
    "              tfs.ToTensor()]\n",
    "\n",
    "gan = GAN(epochs=100, input_h_w=112, data_path='data/png_clasificados/',\n",
    "          transforms=transforms)\n",
    "gan.train()\n",
    "print(\"Training finished!\")\n",
    "\n",
    "# visualize learned generator\n",
    "gan.visualize_results(gan.epoch)\n"
   ]
  },
  {
   "cell_type": "code",
   "execution_count": null,
   "metadata": {},
   "outputs": [],
   "source": [
    "from IPython.display import Image\n",
    "\n",
    "with open('/tmp/GAN_epochs.gif','rb') as f:\n",
    "    display(Image(data=f.read(), format='png'))"
   ]
  },
  {
   "cell_type": "markdown",
   "metadata": {},
   "source": [
    "#### Process type of vessels for classification"
   ]
  },
  {
   "cell_type": "code",
   "execution_count": null,
   "metadata": {},
   "outputs": [],
   "source": [
    "import pandas as pd\n",
    "import shutil"
   ]
  },
  {
   "cell_type": "code",
   "execution_count": null,
   "metadata": {},
   "outputs": [],
   "source": [
    "def create_df_from_files(path='data/perfiles_CATA/clases/'):\n",
    "    l = list()  \n",
    "    for class_, filename in enumerate(os.listdir(path), 1):\n",
    "        with open(os.path.join(path, filename)) as f:\n",
    "            lines = f.readlines()\n",
    "            for id_ in lines:\n",
    "                l.append((id_.rstrip(), class_))\n",
    "    df_classes = pd.DataFrame(l, columns=['id', 'class'])\n",
    "\n",
    "    return df_classes"
   ]
  },
  {
   "cell_type": "code",
   "execution_count": null,
   "metadata": {},
   "outputs": [],
   "source": [
    "def create_folder_pytorch_format(df, destination, path):\n",
    "    for row in df.iterrows():\n",
    "        directory = os.path.join(destination, str(row[1][1]))\n",
    "        if not os.path.exists(directory):\n",
    "            os.makedirs(directory)\n",
    "        name = row[1][0] + '.png'\n",
    "        for root, dirs, files in os.walk(path):\n",
    "            if name in files:\n",
    "                print(os.path.join(root, name))\n",
    "                shutil.copy(os.path.join(root, name), destination + str(row[1][1]))"
   ]
  },
  {
   "cell_type": "code",
   "execution_count": null,
   "metadata": {},
   "outputs": [],
   "source": [
    "df = create_df_from_files()\n",
    "destination = \"/home/celia/Code/vasijas_repo/data/perfiles_CATA/png_clasificados/\"\n",
    "path = \"/home/celia/Code/vasijas_repo/data/perfiles_CATA/png\"\n",
    "create_folder_pytorch_format(df, destination, path)"
   ]
  },
  {
   "cell_type": "code",
   "execution_count": null,
   "metadata": {},
   "outputs": [],
   "source": [
    "df"
   ]
  },
  {
   "cell_type": "code",
   "execution_count": null,
   "metadata": {},
   "outputs": [],
   "source": []
  }
 ],
 "metadata": {
  "kernelspec": {
   "display_name": "Python 3",
   "language": "python",
   "name": "python3"
  },
  "language_info": {
   "codemirror_mode": {
    "name": "ipython",
    "version": 3
   },
   "file_extension": ".py",
   "mimetype": "text/x-python",
   "name": "python",
   "nbconvert_exporter": "python",
   "pygments_lexer": "ipython3",
   "version": "3.6.0"
  }
 },
 "nbformat": 4,
 "nbformat_minor": 2
}
