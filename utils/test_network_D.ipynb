{
 "cells": [
  {
   "cell_type": "code",
   "execution_count": 1,
   "id": "e628b801-029c-4b51-92dd-24bea2eda0ff",
   "metadata": {},
   "outputs": [],
   "source": [
    "import visualizacion\n",
    "import numpy as np\n",
    "import torch\n",
    "from torch import optim\n",
    "import time\n",
    "from torch.utils import data\n",
    "from torch import nn\n",
    "\n",
    "Z_LATENT_SPACE = 128\n",
    "Z_INTERN_SPACE = 136 #256\n",
    "\n",
    "#G_LR = 0.0002\n",
    "#D_LR = 0.001\n",
    "G_LR = 0.00002 \n",
    "D_LR = 0.000002\n",
    "EPOCHS = 5000\n",
    "BSIZE = 32\n",
    "CUBE_LEN = 64\n",
    "BETAS = (0.9, 0.999)\n",
    "\n",
    "\n",
    "#losses\n",
    "from pytorch3d.loss import (\n",
    "    chamfer_distance, \n",
    "    mesh_edge_loss, \n",
    "    mesh_laplacian_smoothing, \n",
    "    mesh_normal_consistency,\n",
    ")\n",
    "\n",
    "from FragmentDataset import FragmentDataset\n",
    "import network_vox as nv\n",
    "from torchvision import transforms as tfs"
   ]
  },
  {
   "cell_type": "code",
   "execution_count": 2,
   "id": "0946d06b-1d15-4bd7-9850-e759ca7f8e53",
   "metadata": {},
   "outputs": [],
   "source": [
    "from pyvox.models import Vox\n",
    "from pyvox.writer import VoxWriter"
   ]
  },
  {
   "cell_type": "code",
   "execution_count": 3,
   "id": "2c291501-450f-4a6a-aa9c-7cfc0702c01d",
   "metadata": {},
   "outputs": [],
   "source": [
    "available_device = 'cpu'#\"cuda\" if torch.cuda.is_available() else \"cpu\""
   ]
  },
  {
   "cell_type": "code",
   "execution_count": 4,
   "id": "dae9aee0-af92-4803-80b0-69d7709d0908",
   "metadata": {},
   "outputs": [],
   "source": [
    "G_encode_decode = nv._G_encode_decode(z_latent_space=Z_LATENT_SPACE, z_intern_space=Z_INTERN_SPACE).to(available_device)\n",
    "D_encode_decode = nv._D().to(available_device)"
   ]
  },
  {
   "cell_type": "code",
   "execution_count": 5,
   "id": "e9d21966-ec6b-4202-9dc8-a1e0fea93cd7",
   "metadata": {},
   "outputs": [],
   "source": [
    "dt = FragmentDataset('./data', 'test', )\n"
   ]
  },
  {
   "cell_type": "code",
   "execution_count": 6,
   "id": "6056f1b1-9406-4f6e-a273-2f22dfb41866",
   "metadata": {},
   "outputs": [],
   "source": [
    "data_loader = data.DataLoader(dt, batch_size=BSIZE, shuffle=False, drop_last=True)"
   ]
  },
  {
   "cell_type": "code",
   "execution_count": 7,
   "id": "7d93010b-9b0e-48ad-8b58-446c7cc99cfc",
   "metadata": {},
   "outputs": [
    {
     "data": {
      "text/plain": [
       "<All keys matched successfully>"
      ]
     },
     "execution_count": 7,
     "metadata": {},
     "output_type": "execute_result"
    }
   ],
   "source": [
    "PATH = 'weight/v2_G_encode_decode_partial_20.pkl'\n",
    "checkpoint = torch.load(PATH)\n",
    "G_encode_decode.load_state_dict(checkpoint)"
   ]
  },
  {
   "cell_type": "code",
   "execution_count": 8,
   "id": "6e86c9b4-da98-4dc5-b7a1-c379e32bab55",
   "metadata": {},
   "outputs": [],
   "source": [
    "for i,  (mesh_frag, mesh_complete) in enumerate(data_loader):\n",
    "        #print(\"Batch nro {}\".format(i))\n",
    "\n",
    "        mesh_frag = mesh_frag.float().to(available_device)\n",
    "        mesh_complete = mesh_complete.float().to(available_device)\n",
    "         \n",
    "        output_g_encode = G_encode_decode.forward_encode(mesh_frag)\n",
    "        Z = torch.Tensor(BSIZE, (Z_INTERN_SPACE - Z_LATENT_SPACE)).normal_(0, 0.33).to(available_device)\n",
    "        output_g_encode_z = G_encode_decode.normalized_vector(output_g_encode, Z)\n",
    "        fake = G_encode_decode.forward_decode(output_g_encode_z) \n",
    "        fake = (fake > 0).type(torch.int)\n",
    "        fake = fake + mesh_frag.unsqueeze(1)\n",
    "        \n",
    "        for i, f in enumerate(fake.detach().cpu().numpy()):\n",
    "            a = (f[0] == 1)\n",
    "            #print(np.shape(a[a]))\n",
    "            vox = Vox.from_dense(a)\n",
    "            VoxWriter('fake_vox/v1_test_{}.vox'.format(i+1), vox).write()\n",
    "        \n",
    "        Z = torch.Tensor(BSIZE, (Z_INTERN_SPACE - Z_LATENT_SPACE)).normal_(0, 0.33).to(available_device)\n",
    "        output_g_encode_z = G_encode_decode.normalized_vector(output_g_encode, Z)\n",
    "        fake = G_encode_decode.forward_decode(output_g_encode_z) \n",
    "        fake = (fake > 0).type(torch.int)\n",
    "        fake = fake + mesh_frag.unsqueeze(1)\n",
    "        #fake = mesh_frag.unsqueeze(1)\n",
    "        \n",
    "        for i, f in enumerate(fake.detach().cpu().numpy()):\n",
    "            a = (f[0] == 1)\n",
    "            vox = Vox.from_dense(a)\n",
    "            VoxWriter('fake_vox/v2_test_{}.vox'.format(i+1), vox).write()\n",
    "\n",
    "        \n",
    "        #fake[fake == 2] = 1\n",
    "        break"
   ]
  },
  {
   "cell_type": "code",
   "execution_count": 13,
   "id": "dffdb524-b5ce-4eff-a2e9-01a097cad3a3",
   "metadata": {},
   "outputs": [],
   "source": [
    "crit_D = nn.CrossEntropyLoss()#nn.BCELoss()"
   ]
  },
  {
   "cell_type": "code",
   "execution_count": 21,
   "id": "ea39c130-1d9f-4cb8-a130-d1d903cfc336",
   "metadata": {},
   "outputs": [],
   "source": [
    "y_real_ = torch.tensor(np.ones((BSIZE))).to(available_device).long()\n",
    "y_fake_ = torch.tensor(np.zeros((BSIZE))).to(available_device).long()"
   ]
  },
  {
   "cell_type": "code",
   "execution_count": 23,
   "id": "189a6ed4-45c9-4040-a65a-bb663e3dc5ea",
   "metadata": {},
   "outputs": [
    {
     "name": "stdout",
     "output_type": "stream",
     "text": [
      "torch.Size([32, 512, 4, 4, 4])\n",
      "torch.Size([32, 64])\n",
      "torch.Size([32, 2])\n"
     ]
    }
   ],
   "source": [
    "D_fake = D_encode_decode(fake).view(BSIZE, 2)\n",
    "D_fake_loss = crit_D(D_fake, y_fake_)"
   ]
  },
  {
   "cell_type": "code",
   "execution_count": null,
   "id": "95482535-eb0c-40f0-9261-e774631fc111",
   "metadata": {},
   "outputs": [],
   "source": [
    "D_fake_loss"
   ]
  },
  {
   "cell_type": "code",
   "execution_count": null,
   "id": "817600bf-43c0-4d66-8969-a6ea50ebd5b6",
   "metadata": {},
   "outputs": [],
   "source": [
    "512*4*4*4"
   ]
  },
  {
   "cell_type": "code",
   "execution_count": null,
   "id": "b23a6c37-53ae-487b-bce1-330e6346bf3c",
   "metadata": {},
   "outputs": [],
   "source": [
    "32*32"
   ]
  },
  {
   "cell_type": "code",
   "execution_count": null,
   "id": "655e3212-9745-4edb-bff1-d20b22238426",
   "metadata": {},
   "outputs": [],
   "source": []
  }
 ],
 "metadata": {
  "kernelspec": {
   "display_name": "Python 3 (ipykernel)",
   "language": "python",
   "name": "python3"
  },
  "language_info": {
   "codemirror_mode": {
    "name": "ipython",
    "version": 3
   },
   "file_extension": ".py",
   "mimetype": "text/x-python",
   "name": "python",
   "nbconvert_exporter": "python",
   "pygments_lexer": "ipython3",
   "version": "3.9.12"
  }
 },
 "nbformat": 4,
 "nbformat_minor": 5
}
