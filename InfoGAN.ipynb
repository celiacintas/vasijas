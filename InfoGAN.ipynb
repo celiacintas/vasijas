{
 "cells": [
  {
   "cell_type": "code",
   "execution_count": 28,
   "metadata": {},
   "outputs": [],
   "source": [
    "import os\n",
    "import numpy as np\n",
    "import math\n",
    "import random \n",
    "import torchvision.transforms as tfs\n",
    "from torchvision.utils import save_image\n",
    "import torch.optim as optim\n",
    "from torch.utils.data import DataLoader\n",
    "import torchvision.datasets as dset\n",
    "from torch.autograd import Variable\n",
    "import torch.backends.cudnn as cudnn\n",
    "import itertools\n",
    "import torch.nn as nn\n",
    "import torch.nn.functional as F\n",
    "import torch\n",
    "import PIL.ImageOps"
   ]
  },
  {
   "cell_type": "markdown",
   "metadata": {},
   "source": [
    "### Load pottery data and augmented methods as described in official example InfoGAN "
   ]
  },
  {
   "cell_type": "code",
   "execution_count": 29,
   "metadata": {},
   "outputs": [
    {
     "name": "stdout",
     "output_type": "stream",
     "text": [
      "Random Seed:  3833\n"
     ]
    }
   ],
   "source": [
    "manualSeed = random.randint(1, 10000)\n",
    "print(\"Random Seed: \", manualSeed)\n",
    "random.seed(manualSeed)\n",
    "torch.manual_seed(manualSeed)\n",
    "\n",
    "#cudnn.benchmark = True\n",
    "\n",
    "transformations = [\n",
    "                   tfs.Resize((112, 112)),\n",
    "                   tfs.Grayscale(1),\n",
    "                   tfs.Lambda(lambda x: PIL.ImageOps.invert(x)),\n",
    "                   tfs.ToTensor()]\n",
    "\n",
    "dataset = dset.ImageFolder('data/png_clasificados/',\n",
    "                                     transform=tfs.Compose(transformations))\n",
    "\n",
    "dataloader = DataLoader(dataset, batch_size=64, shuffle=True)"
   ]
  },
  {
   "cell_type": "markdown",
   "metadata": {},
   "source": [
    "### Parameter definitions for training"
   ]
  },
  {
   "cell_type": "code",
   "execution_count": 30,
   "metadata": {},
   "outputs": [],
   "source": [
    "device = torch.device(\"cuda:1\")"
   ]
  },
  {
   "cell_type": "code",
   "execution_count": 31,
   "metadata": {},
   "outputs": [],
   "source": [
    "def weights_init_normal(m):\n",
    "    classname = m.__class__.__name__\n",
    "    if classname.find('Conv') != -1:\n",
    "        torch.nn.init.normal_(m.weight.data, 0.0, 0.02)\n",
    "    elif classname.find('BatchNorm') != -1:\n",
    "        torch.nn.init.normal_(m.weight.data, 1.0, 0.02)\n",
    "        torch.nn.init.constant_(m.bias.data, 0.0)\n",
    "\n",
    "def to_categorical(y, num_columns=11):\n",
    "    \"\"\"Returns one-hot encoded Variable\"\"\"\n",
    "    y_cat = np.zeros((y.shape[0], num_columns))\n",
    "    y_cat[range(y.shape[0]), y] = 1.\n",
    "\n",
    "    return Variable(FloatTensor(y_cat))"
   ]
  },
  {
   "cell_type": "markdown",
   "metadata": {},
   "source": [
    "### Create $G(x)$ and $D(x)$ with weights initialization, define criterion and optimizers"
   ]
  },
  {
   "cell_type": "code",
   "execution_count": 34,
   "metadata": {},
   "outputs": [],
   "source": [
    "from models.infogenerator import Generator\n",
    "from models.infodiscriminator import Discriminator\n",
    "\n",
    "# Loss functions\n",
    "adversarial_loss = torch.nn.MSELoss()\n",
    "categorical_loss = torch.nn.CrossEntropyLoss()\n",
    "continuous_loss = torch.nn.MSELoss()\n",
    "\n",
    "# Loss weights\n",
    "lambda_cat = 1\n",
    "lambda_con = 0.1\n",
    "\n",
    "# Initialize generator and discriminator\n",
    "netG = Generator()\n",
    "netD = Discriminator()\n",
    "\n",
    "\n",
    "netG #.cuda()\n",
    "netD #.cuda()\n",
    "adversarial_loss #.cuda()\n",
    "categorical_loss #.cuda()\n",
    "continuous_loss #.cuda()\n",
    "\n",
    "# Initialize weights\n",
    "netG.apply(weights_init_normal)\n",
    "netD.apply(weights_init_normal)\n",
    "\n",
    "optimizerD = optim.Adam(netD.parameters(), lr=0.0002, betas=(0.5, 0.999))\n",
    "optimizerG = optim.Adam(netG.parameters(), lr=0.0002, betas=(0.5, 0.999))\n",
    "optimizer_info = torch.optim.Adam(itertools.chain(netG.parameters(), netD.parameters()),\n",
    "                                    lr=0.0002, betas=(0.5, 0.999))\n",
    "\n",
    "FloatTensor = torch.cuda.FloatTensor\n",
    "LongTensor = torch.cuda.LongTensor\n",
    "FloatTensor = torch.FloatTensor\n",
    "LongTensor = torch.LongTensor"
   ]
  },
  {
   "cell_type": "code",
   "execution_count": 35,
   "metadata": {},
   "outputs": [],
   "source": [
    "static_z = Variable(FloatTensor(np.zeros((11**2, 62))))\n",
    "static_label = to_categorical(np.array([num for _ in range(11) for num in range(11)]),\n",
    "                                num_columns=11)\n",
    "\n",
    "static_code = Variable(FloatTensor(np.zeros((11**2, 2))))"
   ]
  },
  {
   "cell_type": "code",
   "execution_count": 36,
   "metadata": {},
   "outputs": [],
   "source": [
    "def sample_image(n_row, batches_done):\n",
    "    \"\"\"Saves a grid of generated digits ranging from 0 to n_classes\"\"\"\n",
    "    # Static sample\n",
    "    z = Variable(FloatTensor(np.random.normal(0, 1, (n_row**2, 62))))\n",
    "    static_sample = netG(z, static_label, static_code)\n",
    "    save_image(static_sample.data, 'out/static_%d.png' % batches_done, nrow=n_row, normalize=True)\n",
    "\n",
    "    # Get varied c1 and c2\n",
    "    zeros = np.zeros((n_row**2, 1))\n",
    "    c_varied = np.repeat(np.linspace(-1, 1, n_row)[:, np.newaxis], n_row, 0)\n",
    "    c1 = Variable(FloatTensor(np.concatenate((c_varied, zeros), -1)))\n",
    "    c2 = Variable(FloatTensor(np.concatenate((zeros, c_varied), -1)))\n",
    "    sample1 = netG(static_z, static_label, c1)\n",
    "    sample2 = netG(static_z, static_label, c2)\n",
    "    save_image(sample1.data, 'out/c1_%d.png' % batches_done, nrow=n_row, normalize=True)\n",
    "    save_image(sample2.data, 'out/c2_%d.png' % batches_done, nrow=n_row, normalize=True)"
   ]
  },
  {
   "cell_type": "markdown",
   "metadata": {},
   "source": [
    "### Train $G(x)$ , $D(x)$ and calculate information loss "
   ]
  },
  {
   "cell_type": "code",
   "execution_count": null,
   "metadata": {},
   "outputs": [
    {
     "name": "stdout",
     "output_type": "stream",
     "text": [
      "[Epoch 0/400] [Batch 0/21] [D loss: 0.264720] [G loss: 0.281492] [info loss: 2.433975]\n",
      "[Epoch 0/400] [Batch 1/21] [D loss: 0.235815] [G loss: 0.283674] [info loss: 2.441699]\n"
     ]
    }
   ],
   "source": [
    "for epoch in range(400):\n",
    "    for i, (imgs, labels) in enumerate(dataloader):\n",
    "\n",
    "        batch_size = imgs.shape[0]\n",
    "\n",
    "        # Adversarial ground truths\n",
    "        valid = Variable(FloatTensor(batch_size, 1).fill_(1.0), requires_grad=False)\n",
    "        fake = Variable(FloatTensor(batch_size, 1).fill_(0.0), requires_grad=False)\n",
    "\n",
    "        # Configure input\n",
    "        real_imgs = Variable(imgs.type(FloatTensor))\n",
    "        labels = to_categorical(labels.numpy(), num_columns=11)\n",
    "\n",
    "        # -----------------\n",
    "        #  Train Generator\n",
    "        # -----------------\n",
    "\n",
    "        optimizerG.zero_grad()\n",
    "\n",
    "        # Sample noise and labels as generator input\n",
    "        z = Variable(FloatTensor(np.random.normal(0, 1, (batch_size, 62))))\n",
    "        label_input = to_categorical(np.random.randint(0, 11, batch_size), num_columns=11)\n",
    "        code_input = Variable(FloatTensor(np.random.uniform(-1, 1, (batch_size, 2))))\n",
    "\n",
    "        # Generate a batch of images\n",
    "        gen_imgs = netG(z, label_input, code_input)\n",
    "\n",
    "        # Loss measures generator's ability to fool the discriminator\n",
    "        validity, _, _ = netD(gen_imgs)\n",
    "        g_loss = adversarial_loss(validity, valid)\n",
    "\n",
    "        g_loss.backward()\n",
    "        optimizerG.step()\n",
    "\n",
    "        # ---------------------\n",
    "        #  Train Discriminator\n",
    "        # ---------------------\n",
    "\n",
    "        optimizerD.zero_grad()\n",
    "\n",
    "        # Loss for real images\n",
    "        real_pred, _, _ = netD(real_imgs)\n",
    "        d_real_loss = adversarial_loss(real_pred, valid)\n",
    "\n",
    "        # Loss for fake images\n",
    "        fake_pred, _, _ = netD(gen_imgs.detach())\n",
    "        d_fake_loss = adversarial_loss(fake_pred, fake)\n",
    "\n",
    "        # Total discriminator loss\n",
    "        d_loss = (d_real_loss + d_fake_loss) / 2\n",
    "\n",
    "        d_loss.backward()\n",
    "        optimizerD.step()\n",
    "\n",
    "        #------------------\n",
    "        # Information Loss\n",
    "        #------------------\n",
    "\n",
    "        optimizer_info.zero_grad()\n",
    "\n",
    "        # Sample labels\n",
    "        sampled_labels = np.random.randint(0, 11, batch_size)\n",
    "\n",
    "        # Ground truth labels\n",
    "        gt_labels = Variable(LongTensor(sampled_labels), requires_grad=False)\n",
    "\n",
    "\n",
    "        # Sample noise, labels and code as generator input\n",
    "        z = Variable(FloatTensor(np.random.normal(0, 1, (batch_size, 62))))\n",
    "        label_input = to_categorical(sampled_labels, num_columns=11)\n",
    "        code_input = Variable(FloatTensor(np.random.normal(-1, 1, (batch_size, 2))))\n",
    "\n",
    "        gen_imgs = netG(z, label_input, code_input)\n",
    "        _, pred_label, pred_code = netD(gen_imgs)\n",
    "\n",
    "        info_loss = lambda_cat * categorical_loss(pred_label, gt_labels) + \\\n",
    "                    lambda_con * continuous_loss(pred_code, code_input)\n",
    "\n",
    "        info_loss.backward()\n",
    "        optimizer_info.step()\n",
    "\n",
    "        #--------------\n",
    "        # Log Progress\n",
    "        #--------------\n",
    "\n",
    "        print (\"[Epoch %d/%d] [Batch %d/%d] [D loss: %f] [G loss: %f] [info loss: %f]\" % (epoch, 400, i, len(dataloader),\n",
    "                                                            d_loss.item(), g_loss.item(), info_loss.item()))\n",
    "        batches_done = epoch * len(dataloader) + i\n",
    "        if batches_done % 100 == 0:\n",
    "            sample_image(n_row=11, batches_done=batches_done)"
   ]
  },
  {
   "cell_type": "markdown",
   "metadata": {},
   "source": [
    "### Funcs to get generated samples"
   ]
  },
  {
   "cell_type": "code",
   "execution_count": 11,
   "metadata": {},
   "outputs": [],
   "source": [
    "def sample_image_class(n_row, batches_done=-1, class_n=7):\n",
    "    \"\"\"Saves a grid of generated digits ranging from 0 to n_classes\"\"\"\n",
    "    # Sample noise\n",
    "    z = Variable(FloatTensor(np.random.normal(0, 1, (n_row**2, 100))))\n",
    "    # Get labels ranging from 0 to n_classes for n rows\n",
    "    labels = np.array([num for _ in range(n_row) for num in [class_n] * n_row])\n",
    "    print(labels)\n",
    "    labels = Variable(LongTensor(labels))\n",
    "    gen_imgs = netG(z, labels)\n",
    "    save_image(gen_imgs.data, 'out/class_%d_%d.png' % (batches_done, class_n) , nrow=n_row, normalize=True)"
   ]
  },
  {
   "cell_type": "code",
   "execution_count": null,
   "metadata": {},
   "outputs": [],
   "source": [
    "for j in range(100):\n",
    "        z = Variable(FloatTensor(np.random.normal(0, 1, (10**2, 62))))\n",
    "        fake = netG(z, static_label, static_code)\n",
    "        # save_image(static_sample.data, 'out/static_%d.png' % batches_done, nrow=n_row, normalize=True)\n",
    "        for i in range(100):\n",
    "            for class_ in range(10):\n",
    "                if class_ == 4:\n",
    "                    save_image(fake.detach()[i], 'output/fake_infogan_{}{}_class_{}.png'.format(j, i, class_),\n",
    "                              nrow=1, normalize=True)\n",
    "                    "
   ]
  },
  {
   "cell_type": "code",
   "execution_count": null,
   "metadata": {},
   "outputs": [],
   "source": [
    "sample_image_class(10, class_n=0)"
   ]
  }
 ],
 "metadata": {
  "kernelspec": {
   "display_name": "Python 3",
   "language": "python",
   "name": "python3"
  },
  "language_info": {
   "codemirror_mode": {
    "name": "ipython",
    "version": 3
   },
   "file_extension": ".py",
   "mimetype": "text/x-python",
   "name": "python",
   "nbconvert_exporter": "python",
   "pygments_lexer": "ipython3",
   "version": "3.5.2"
  }
 },
 "nbformat": 4,
 "nbformat_minor": 4
}
