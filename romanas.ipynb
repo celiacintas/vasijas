{
 "cells": [
  {
   "cell_type": "code",
   "execution_count": 1,
   "metadata": {},
   "outputs": [],
   "source": [
    "from torchvision import transforms as tfs\n",
    "from torch.utils import data\n",
    "import PIL.ImageOps\n",
    "from utils import CustomDataGANV4 as cdata\n",
    "import numpy as np\n",
    "from utils import utils\n",
    "import os\n",
    "import pickle\n",
    "from utils import Discriminator as netD\n",
    "from utils import Generator as netG\n",
    "import torch.nn as nn\n",
    "import torch.optim as optim\n",
    "import torch\n",
    "from utils.Plotter import VisdomLinePlotter\n",
    "import tqdm\n",
    "from scipy import stats\n",
    "import cv2"
   ]
  },
  {
   "cell_type": "code",
   "execution_count": 2,
   "metadata": {},
   "outputs": [],
   "source": [
    "available_device = 'cuda'\n",
    "\n",
    "transformations = [\n",
    "                   #tfs.RandomHorizontalFlip(p=0.7), \n",
    "                   #tfs.RandomAffine(0, scale=(0.7, 1.), fillcolor=(255, 255, 255)), \n",
    "                   #tfs.RandomRotation((0,360), fill=(255,255, 255)), \n",
    "                   tfs.Grayscale(),\n",
    "                   #tfs.RandomRotation(degrees=(0,45), fill=(255,)),\n",
    "                   tfs.Resize((128, 128)),\n",
    "                   tfs.Lambda(lambda x: PIL.ImageOps.invert(x)),\n",
    "                   tfs.ToTensor()\n",
    "]"
   ]
  },
  {
   "cell_type": "code",
   "execution_count": 3,
   "metadata": {},
   "outputs": [],
   "source": [
    "# Model Initialization\n",
    "model_G = netG.Generator(nc_input=2, nc_output=1).to(available_device)\n",
    "checkpoint = torch.load(\"models/generador_v9_current_5000.pkl\")\n",
    "model_G.load_state_dict(checkpoint)\n",
    "model_G = model_G.eval()\n",
    "\n",
    "#checkpoint = torch.load(\"models/generador_v6c_5000.pkl\")\n",
    "#checkpoint = torch.load(\"models/generador_v6_5000.pkl\")\n",
    "#checkpoint = torch.load(\"models/generador_v7_5000.pkl\")\n",
    "model_G1 = netG.Generator(nc_input=2, nc_output=1).to(available_device)\n",
    "checkpoint = torch.load(\"models/generador_v1_current_5000.pkl\")\n",
    "model_G1.load_state_dict(checkpoint)\n",
    "model_G1 = model_G1.eval()\n",
    "\n"
   ]
  },
  {
   "cell_type": "code",
   "execution_count": 4,
   "metadata": {},
   "outputs": [],
   "source": [
    "import matplotlib.pyplot as plt"
   ]
  },
  {
   "cell_type": "code",
   "execution_count": 5,
   "metadata": {},
   "outputs": [],
   "source": [
    "def imshow_msk(imgs, k):\n",
    "    plt.figure(figsize=(12,5))\n",
    "    #titles = ['Input 0', 'Input 1', 'Result', 'Target', 'Position']\n",
    "    titles = ['ind - {}: Input 0'.format(k), 'Result', 'Position']\n",
    "    for i in range(0,3):\n",
    "        plt.subplot(1, 5, i+1)\n",
    "        plt.imshow(imgs[i], cmap=\"gray\")\n",
    "        plt.xticks([])\n",
    "        plt.yticks([])\n",
    "        plt.title(titles[i])\n",
    "    \n",
    "    cv2.imwrite('rs.png', np.abs((imgs[2]*255)-255))\n",
    "   \n",
    "    \n"
   ]
  },
  {
   "cell_type": "code",
   "execution_count": 6,
   "metadata": {},
   "outputs": [],
   "source": [
    "from PIL import Image"
   ]
  },
  {
   "cell_type": "code",
   "execution_count": 7,
   "metadata": {},
   "outputs": [],
   "source": [
    "#img = Image.open('romanas/2446_1_03_03_02.png')\n",
    "img = Image.open('romanas/romana_v2_v3.png')"
   ]
  },
  {
   "cell_type": "code",
   "execution_count": 8,
   "metadata": {},
   "outputs": [],
   "source": [
    "tf = tfs.Compose(transformations)"
   ]
  },
  {
   "cell_type": "code",
   "execution_count": 9,
   "metadata": {},
   "outputs": [],
   "source": [
    "tope = tf(img).to(available_device)\n",
    "blacks = torch.zeros_like(tope).to(available_device)\n",
    "origin_A = torch.cat((tope, blacks), 0)"
   ]
  },
  {
   "cell_type": "code",
   "execution_count": 10,
   "metadata": {},
   "outputs": [],
   "source": [
    "origin_A = origin_A.unsqueeze(0)"
   ]
  },
  {
   "cell_type": "code",
   "execution_count": 11,
   "metadata": {},
   "outputs": [
    {
     "data": {
      "image/png": "[encoded data removed]",
      "text/plain": [
       "<Figure size 864x360 with 3 Axes>"
      ]
     },
     "metadata": {},
     "output_type": "display_data"
    }
   ],
   "source": [
    "predicted_A = model_G(origin_A).squeeze(0)\n",
    "\n",
    "predicted_plus_tope = tope + predicted_A\n",
    "predicted_plus_tope[predicted_plus_tope>0.5] = 1\n",
    "imgs = torch.cat((tope, predicted_A, predicted_plus_tope), 0)\n",
    "imshow_msk(imgs.detach().cpu().numpy(), 0)"
   ]
  },
  {
   "cell_type": "code",
   "execution_count": null,
   "metadata": {},
   "outputs": [],
   "source": []
  },
  {
   "cell_type": "code",
   "execution_count": null,
   "metadata": {},
   "outputs": [],
   "source": []
  },
  {
   "cell_type": "code",
   "execution_count": null,
   "metadata": {},
   "outputs": [],
   "source": []
  },
  {
   "cell_type": "code",
   "execution_count": null,
   "metadata": {},
   "outputs": [],
   "source": []
  }
 ],
 "metadata": {
  "kernelspec": {
   "display_name": "Python 3",
   "language": "python",
   "name": "python3"
  },
  "language_info": {
   "codemirror_mode": {
    "name": "ipython",
    "version": 3
   },
   "file_extension": ".py",
   "mimetype": "text/x-python",
   "name": "python",
   "nbconvert_exporter": "python",
   "pygments_lexer": "ipython3",
   "version": "3.6.10"
  }
 },
 "nbformat": 4,
 "nbformat_minor": 4
}
